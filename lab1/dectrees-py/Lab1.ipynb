{
 "metadata": {
  "name": "",
  "signature": "sha256:6f1217c4b8cbfd4e16faaa1b6a8b8f459d6b1ade8a46ebbd8c3b55b22ee7e188"
 },
 "nbformat": 3,
 "nbformat_minor": 0,
 "worksheets": [
  {
   "cells": [
    {
     "cell_type": "markdown",
     "metadata": {},
     "source": [
      "# Machine Learning Lab 1 - Jan van de Kerkhof\n",
      "### 2015-09-08\n"
     ]
    },
    {
     "cell_type": "code",
     "collapsed": false,
     "input": [
      "%matplotlib inline\n",
      "from dtree import entropy, averageGain, select, mostCommon, buildTree, check, allPruned\n",
      "from pandas import DataFrame\n",
      "import monkdata as m\n",
      "import numpy as np"
     ],
     "language": "python",
     "metadata": {},
     "outputs": [],
     "prompt_number": 2
    },
    {
     "cell_type": "markdown",
     "metadata": {},
     "source": [
      "## Assingment 1"
     ]
    },
    {
     "cell_type": "code",
     "collapsed": false,
     "input": [
      "entropies = [entropy(m.monk1), entropy(m.monk2), entropy(m.monk3)]\n",
      "d = [\n",
      "    [\"MONK1\", entropies[0]],\n",
      "    [\"MONK2\", entropies[1]],\n",
      "    [\"MONK3\", entropies[2]],\n",
      "]\n",
      "df = DataFrame(d, columns=[\"DataSet\", \"DataFrame\"])\n",
      "df"
     ],
     "language": "python",
     "metadata": {},
     "outputs": [
      {
       "html": [
        "<div style=\"max-width:1500px;overflow:auto;\">\n",
        "<table border=\"1\" class=\"dataframe\">\n",
        "  <thead>\n",
        "    <tr style=\"text-align: right;\">\n",
        "      <th></th>\n",
        "      <th>DataSet</th>\n",
        "      <th>DataFrame</th>\n",
        "    </tr>\n",
        "  </thead>\n",
        "  <tbody>\n",
        "    <tr>\n",
        "      <th>0</th>\n",
        "      <td>MONK1</td>\n",
        "      <td>1.000000</td>\n",
        "    </tr>\n",
        "    <tr>\n",
        "      <th>1</th>\n",
        "      <td>MONK2</td>\n",
        "      <td>0.957117</td>\n",
        "    </tr>\n",
        "    <tr>\n",
        "      <th>2</th>\n",
        "      <td>MONK3</td>\n",
        "      <td>0.999806</td>\n",
        "    </tr>\n",
        "  </tbody>\n",
        "</table>\n",
        "</div>"
       ],
       "metadata": {},
       "output_type": "pyout",
       "prompt_number": 3,
       "text": [
        "  DataSet  DataFrame\n",
        "0   MONK1   1.000000\n",
        "1   MONK2   0.957117\n",
        "2   MONK3   0.999806"
       ]
      }
     ],
     "prompt_number": 3
    },
    {
     "cell_type": "markdown",
     "metadata": {},
     "source": [
      "## Assignment 2"
     ]
    },
    {
     "cell_type": "code",
     "collapsed": false,
     "input": [
      "columns = ['DataSet', 'a1', 'a2', 'a3', 'a4', 'a5', 'a6']\n",
      "datasets = [m.monk1, m.monk2, m.monk3]\n",
      "dataset_labels = ['MONK1', 'MONK2', 'MONK3']\n",
      "d = []\n",
      "for i in range(0, len(datasets)):\n",
      "    gains = [dataset_labels[i]]\n",
      "    for j in range(0,len(m.attributes)):\n",
      "        gains.append(averageGain(datasets[i], m.attributes[j]))\n",
      "    d.append(gains)\n",
      "\n",
      "df = DataFrame(d, columns=columns)\n",
      "df\n",
      "    "
     ],
     "language": "python",
     "metadata": {},
     "outputs": [
      {
       "html": [
        "<div style=\"max-width:1500px;overflow:auto;\">\n",
        "<table border=\"1\" class=\"dataframe\">\n",
        "  <thead>\n",
        "    <tr style=\"text-align: right;\">\n",
        "      <th></th>\n",
        "      <th>DataSet</th>\n",
        "      <th>a1</th>\n",
        "      <th>a2</th>\n",
        "      <th>a3</th>\n",
        "      <th>a4</th>\n",
        "      <th>a5</th>\n",
        "      <th>a6</th>\n",
        "    </tr>\n",
        "  </thead>\n",
        "  <tbody>\n",
        "    <tr>\n",
        "      <th>0</th>\n",
        "      <td>MONK1</td>\n",
        "      <td>0.075273</td>\n",
        "      <td>0.005838</td>\n",
        "      <td>0.004708</td>\n",
        "      <td>0.026312</td>\n",
        "      <td>0.287031</td>\n",
        "      <td>0.000758</td>\n",
        "    </tr>\n",
        "    <tr>\n",
        "      <th>1</th>\n",
        "      <td>MONK2</td>\n",
        "      <td>0.003756</td>\n",
        "      <td>0.002458</td>\n",
        "      <td>0.001056</td>\n",
        "      <td>0.015664</td>\n",
        "      <td>0.017277</td>\n",
        "      <td>0.006248</td>\n",
        "    </tr>\n",
        "    <tr>\n",
        "      <th>2</th>\n",
        "      <td>MONK3</td>\n",
        "      <td>0.007121</td>\n",
        "      <td>0.293736</td>\n",
        "      <td>0.000831</td>\n",
        "      <td>0.002892</td>\n",
        "      <td>0.255912</td>\n",
        "      <td>0.007077</td>\n",
        "    </tr>\n",
        "  </tbody>\n",
        "</table>\n",
        "</div>"
       ],
       "metadata": {},
       "output_type": "pyout",
       "prompt_number": 4,
       "text": [
        "  DataSet        a1        a2        a3        a4        a5        a6\n",
        "0   MONK1  0.075273  0.005838  0.004708  0.026312  0.287031  0.000758\n",
        "1   MONK2  0.003756  0.002458  0.001056  0.015664  0.017277  0.006248\n",
        "2   MONK3  0.007121  0.293736  0.000831  0.002892  0.255912  0.007077"
       ]
      }
     ],
     "prompt_number": 4
    },
    {
     "cell_type": "markdown",
     "metadata": {},
     "source": [
      "Based on these results, we should select attribute **a5** for splitting examples at the root node, as **a5** displays the highest information gain."
     ]
    },
    {
     "cell_type": "markdown",
     "metadata": {},
     "source": [
      "## Assignment 3"
     ]
    },
    {
     "cell_type": "code",
     "collapsed": false,
     "input": [
      "columns = ['Node', 'a1', 'a2', 'a3', 'a4', 'a5', 'a6']\n",
      "a5_values = range(1,5)\n",
      "splits = {}\n",
      "d = []\n",
      "for val in a5_values:\n",
      "    split = select(datasets[0], m.attributes[4], val)\n",
      "    splits[val] = split\n",
      "    gains = [(\"Node%d\" % val)]\n",
      "    for i in range(0,len(m.attributes)):\n",
      "        gains.append(averageGain(split, m.attributes[i]))\n",
      "    d.append(gains)\n",
      "\n",
      "df = DataFrame(d, columns=columns)\n",
      "df"
     ],
     "language": "python",
     "metadata": {},
     "outputs": [
      {
       "html": [
        "<div style=\"max-width:1500px;overflow:auto;\">\n",
        "<table border=\"1\" class=\"dataframe\">\n",
        "  <thead>\n",
        "    <tr style=\"text-align: right;\">\n",
        "      <th></th>\n",
        "      <th>Node</th>\n",
        "      <th>a1</th>\n",
        "      <th>a2</th>\n",
        "      <th>a3</th>\n",
        "      <th>a4</th>\n",
        "      <th>a5</th>\n",
        "      <th>a6</th>\n",
        "    </tr>\n",
        "  </thead>\n",
        "  <tbody>\n",
        "    <tr>\n",
        "      <th>0</th>\n",
        "      <td>Node1</td>\n",
        "      <td>0.000000</td>\n",
        "      <td>0.000000</td>\n",
        "      <td>0.000000</td>\n",
        "      <td>0.000000</td>\n",
        "      <td>0</td>\n",
        "      <td>0.000000</td>\n",
        "    </tr>\n",
        "    <tr>\n",
        "      <th>1</th>\n",
        "      <td>Node2</td>\n",
        "      <td>0.040217</td>\n",
        "      <td>0.015063</td>\n",
        "      <td>0.037273</td>\n",
        "      <td>0.048892</td>\n",
        "      <td>0</td>\n",
        "      <td>0.025807</td>\n",
        "    </tr>\n",
        "    <tr>\n",
        "      <th>2</th>\n",
        "      <td>Node3</td>\n",
        "      <td>0.033055</td>\n",
        "      <td>0.002197</td>\n",
        "      <td>0.017982</td>\n",
        "      <td>0.019123</td>\n",
        "      <td>0</td>\n",
        "      <td>0.045109</td>\n",
        "    </tr>\n",
        "    <tr>\n",
        "      <th>3</th>\n",
        "      <td>Node4</td>\n",
        "      <td>0.206291</td>\n",
        "      <td>0.033898</td>\n",
        "      <td>0.025906</td>\n",
        "      <td>0.075933</td>\n",
        "      <td>0</td>\n",
        "      <td>0.003324</td>\n",
        "    </tr>\n",
        "  </tbody>\n",
        "</table>\n",
        "</div>"
       ],
       "metadata": {},
       "output_type": "pyout",
       "prompt_number": 5,
       "text": [
        "    Node        a1        a2        a3        a4  a5        a6\n",
        "0  Node1  0.000000  0.000000  0.000000  0.000000   0  0.000000\n",
        "1  Node2  0.040217  0.015063  0.037273  0.048892   0  0.025807\n",
        "2  Node3  0.033055  0.002197  0.017982  0.019123   0  0.045109\n",
        "3  Node4  0.206291  0.033898  0.025906  0.075933   0  0.003324"
       ]
      }
     ],
     "prompt_number": 5
    },
    {
     "cell_type": "markdown",
     "metadata": {},
     "source": [
      "For **Node1** there is no attribute that gives more information gain, a leaf node has been reached.\n",
      "\n",
      "For **Node2** attribute **a4** gives the most information gain.\n",
      "\n",
      "For **Node3** attribute **a1** gives the most information gain.\n",
      "\n",
      "For **Node4** attribute **a1** gives the most information gain.\n"
     ]
    },
    {
     "cell_type": "code",
     "collapsed": false,
     "input": [
      "commons = []\n",
      "for val in splits:\n",
      "    commons.append(mostCommon(splits[val]))\n",
      "    \n",
      "print 'Labels for nodes %s' % commons\n",
      "tree = buildTree(datasets[0], m.attributes, maxdepth=1)\n",
      "print 'Tree: %s' % tree"
     ],
     "language": "python",
     "metadata": {},
     "outputs": [
      {
       "output_type": "stream",
       "stream": "stdout",
       "text": [
        "Labels for nodes [True, False, False, False]\n",
        "Tree: A5(+---)\n"
       ]
      }
     ],
     "prompt_number": 6
    },
    {
     "cell_type": "markdown",
     "metadata": {},
     "source": [
      "The *buildTree* method prints exactly the first two levels of the tree. (I used the print statement because I couldn't get PyQt4 installed)"
     ]
    },
    {
     "cell_type": "code",
     "collapsed": false,
     "input": [
      "trees = []\n",
      "testsets = [m.monk1test, m.monk2test, m.monk3test]\n",
      "columns = [\"DataSet\", \"E_train\", \"E_test\"]\n",
      "d = []\n",
      "for i in range(0, len(datasets)):\n",
      "    row = [dataset_labels[i]]\n",
      "    trees.append(buildTree(datasets[i], m.attributes))\n",
      "    row.append(check(trees[i], datasets[i]))\n",
      "    row.append(check(trees[i], testsets[i]))\n",
      "    d.append(row)\n",
      "\n",
      "for i in range(0, len(trees)):\n",
      "    print 'Tree%s: \\n %s' % (i, trees[i])\n",
      "    \n",
      "df = DataFrame(d, columns=columns)\n",
      "df\n",
      "\n",
      "    \n",
      "    \n",
      "    "
     ],
     "language": "python",
     "metadata": {},
     "outputs": [
      {
       "output_type": "stream",
       "stream": "stdout",
       "text": [
        "Tree0: \n",
        " A5(+A4(A1(A2(+--)A2(-++)A2(--+))A2(-+-)A3(A1(A2(+--)+A2(-++))A2(--A1(--+))))A6(A4(A3(A1(A2(+--)A2(-+-)-)-)A1(A2(+--)--)-)A3(A4(A1(+--)A1(-++)+)A1(-A2(-+-)A2(--+))))A1(A2(+--)A2(-+-)A2(+-+)))\n",
        "Tree1: \n",
        " A5(A3(A6(-A1(-A2(--A4(--+))A2(-A4(-+-)-)))A4(A2(--A1(-+-))+A1(A2(-A6(-+)-)A2(A6(-+)++)+)))A3(A4(A2(-+-)A6(A1(--+)+)A1(A2(-++)++))A2(A4(++A1(+-A6(+-)))-A1(+A4(+--)-)))A3(A6(A1(-A4(-++)A4(--+))A2(+A1(+-A4(+--))A4(A1(-++)A1(+--)-)))A4(A2(A6(-+)A6(+-)A1(A6(-+)++))A1(A2(-+-)--)A1(A6(+-)--)))A2(A6(-A1(+-A4(++-)))A1(A4(-A3(-+)A3(A6(-+)A6(+-)))A3(+A6(+-))-)A3(A4(--+)-)))\n",
        "Tree2: \n",
        " A2(A5(++A4(A1(--+)++)-)A5(+A1(+A4(+-+)+)A3(A4(+A1(--+)A1(+--))+)-)A4(A5(--+A1(--+))--))\n"
       ]
      },
      {
       "html": [
        "<div style=\"max-width:1500px;overflow:auto;\">\n",
        "<table border=\"1\" class=\"dataframe\">\n",
        "  <thead>\n",
        "    <tr style=\"text-align: right;\">\n",
        "      <th></th>\n",
        "      <th>DataSet</th>\n",
        "      <th>E_train</th>\n",
        "      <th>E_test</th>\n",
        "    </tr>\n",
        "  </thead>\n",
        "  <tbody>\n",
        "    <tr>\n",
        "      <th>0</th>\n",
        "      <td>MONK1</td>\n",
        "      <td>1</td>\n",
        "      <td>0.828704</td>\n",
        "    </tr>\n",
        "    <tr>\n",
        "      <th>1</th>\n",
        "      <td>MONK2</td>\n",
        "      <td>1</td>\n",
        "      <td>0.692130</td>\n",
        "    </tr>\n",
        "    <tr>\n",
        "      <th>2</th>\n",
        "      <td>MONK3</td>\n",
        "      <td>1</td>\n",
        "      <td>0.944444</td>\n",
        "    </tr>\n",
        "  </tbody>\n",
        "</table>\n",
        "</div>"
       ],
       "metadata": {},
       "output_type": "pyout",
       "prompt_number": 7,
       "text": [
        "  DataSet  E_train    E_test\n",
        "0   MONK1        1  0.828704\n",
        "1   MONK2        1  0.692130\n",
        "2   MONK3        1  0.944444"
       ]
      }
     ],
     "prompt_number": 7
    },
    {
     "cell_type": "markdown",
     "metadata": {},
     "source": [
      "## Assignment 4"
     ]
    },
    {
     "cell_type": "code",
     "collapsed": false,
     "input": [
      "import random\n",
      "def partition(data, fraction):\n",
      "    ldata = list(data)\n",
      "    random.shuffle(ldata)\n",
      "    breakPoint = int(len(ldata) * fraction)\n",
      "    return ldata[:breakPoint], ldata[breakPoint:]"
     ],
     "language": "python",
     "metadata": {},
     "outputs": [],
     "prompt_number": 8
    },
    {
     "cell_type": "code",
     "collapsed": false,
     "input": [
      "fractions = np.arange(0.3, 1, 0.1)\n",
      "d = []\n",
      "# loop over datasets\n",
      "for i in [0,2]:\n",
      "    row = []\n",
      "    # loop over fractions\n",
      "    for f in fractions:\n",
      "        train, val = partition(datasets[i], f)\n",
      "        # set initial tree\n",
      "        current_tree = buildTree(train, m.attributes)\n",
      "        ap_perf = 0\n",
      "        ct_perf = check(current_tree, val)\n",
      "        # stop when pruning doesn't ourperform the current tree\n",
      "        while ap_perf > ct_perf or ap_perf == 0:\n",
      "            if ap_perf != 0:\n",
      "                ct_perf = ap_perf\n",
      "            all_pruned = allPruned(current_tree)\n",
      "            checks = [check(t, val) for t in all_pruned]\n",
      "            ap_perf = max(checks)\n",
      "            # set current tree to best pruning tree\n",
      "            if ap_perf > ct_perf:\n",
      "                current_tree = all_pruned[checks.index(ap_perf)]\n",
      "                \n",
      "        row.append(1 - check(current_tree, testsets[i]))\n",
      "    d.append(row)\n",
      "\n",
      "df = DataFrame(d, index=[\"MONK1\", \"MONK3\"],columns=fractions)\n",
      "df.transpose().plot()"
     ],
     "language": "python",
     "metadata": {},
     "outputs": [
      {
       "metadata": {},
       "output_type": "pyout",
       "prompt_number": 69,
       "text": [
        "<matplotlib.axes.AxesSubplot at 0x10a51acd0>"
       ]
      },
      {
       "metadata": {},
       "output_type": "display_data",
       "png": "[encoded data removed]",
       "text": [
        "<matplotlib.figure.Figure at 0x10a524b10>"
       ]
      }
     ],
     "prompt_number": 69
    },
    {
     "cell_type": "markdown",
     "metadata": {},
     "source": [
      "The optimal value for `fraction` cannot be estimated with just one test run, as the elements in the partitioning are randomly selected because of the `random.shuffle(ldata)` in `partition`. Therefore, we need to run a large number of simulations to obtain an estimate for `fraction`. We can reuse the code above and simple add a number of simulations. "
     ]
    },
    {
     "cell_type": "code",
     "collapsed": false,
     "input": [
      "fractions = np.arange(0.3, 1, 0.1)\n",
      "data = []\n",
      "nr_of_runs = 10000 # number of simulations per fraction per dataset\n",
      "# loop over datasets\n",
      "for i in [0,2]:\n",
      "    row = []\n",
      "    # loop over fractions\n",
      "    for f in fractions:\n",
      "        errors = []\n",
      "        for n in range(0,nr_of_runs): # execute n simulations\n",
      "            train, val = partition(datasets[i], f)\n",
      "            # set initial tree\n",
      "            current_tree = buildTree(train, m.attributes)\n",
      "            ap_perf = 0\n",
      "            ct_perf = check(current_tree, val)\n",
      "            # stop when pruning doesn't ourperform the current tree\n",
      "            while ap_perf > ct_perf or ap_perf == 0:\n",
      "                if ap_perf != 0:\n",
      "                    ct_perf = ap_perf\n",
      "                all_pruned = allPruned(current_tree)\n",
      "                checks = [check(t, val) for t in all_pruned]\n",
      "                ap_perf = max(checks)\n",
      "                # set current tree to best pruning tree\n",
      "                if ap_perf > ct_perf:\n",
      "                    current_tree = all_pruned[checks.index(ap_perf)]\n",
      "            errors.append(1 - check(current_tree, testsets[i]))\n",
      "        row.append(sum(errors) / len(errors)) # take the average simulation performance\n",
      "    data.append(row)"
     ],
     "language": "python",
     "metadata": {},
     "outputs": [],
     "prompt_number": 84
    },
    {
     "cell_type": "code",
     "collapsed": false,
     "input": [
      "df_final = DataFrame(data, index=[\"MONK1\", \"MONK3\"],columns=fractions)\n",
      "df_final.transpose().plot()"
     ],
     "language": "python",
     "metadata": {},
     "outputs": [
      {
       "metadata": {},
       "output_type": "pyout",
       "prompt_number": 85,
       "text": [
        "<matplotlib.axes.AxesSubplot at 0x10ad4c410>"
       ]
      },
      {
       "metadata": {},
       "output_type": "display_data",
       "png": "[encoded data removed]",
       "text": [
        "<matplotlib.figure.Figure at 0x10adda290>"
       ]
      }
     ],
     "prompt_number": 85
    },
    {
     "cell_type": "markdown",
     "metadata": {},
     "source": [
      "The plot above is based on **2000** simulations per fraction. From the plot we can see that the optimal value of `fraction` is somewhere around 0.7 for MONK1 and around 0.8 for MONK2. "
     ]
    },
    {
     "cell_type": "code",
     "collapsed": false,
     "input": [
      "data"
     ],
     "language": "python",
     "metadata": {},
     "outputs": [
      {
       "metadata": {},
       "output_type": "pyout",
       "prompt_number": 86,
       "text": [
        "[[0.2273738425925817,\n",
        "  0.20258749999999312,\n",
        "  0.17938634259258915,\n",
        "  0.16224398148148034,\n",
        "  0.1485717592592592,\n",
        "  0.14068888888888814,\n",
        "  0.1421793981481476],\n",
        " [0.0852953703703723,\n",
        "  0.059935185185184266,\n",
        "  0.04757592592592393,\n",
        "  0.04278935185185014,\n",
        "  0.04261898148147985,\n",
        "  0.04875694444444265,\n",
        "  0.06080694444444212]]"
       ]
      }
     ],
     "prompt_number": 86
    },
    {
     "cell_type": "code",
     "collapsed": false,
     "input": [],
     "language": "python",
     "metadata": {},
     "outputs": []
    }
   ],
   "metadata": {}
  }
 ]
}