{
 "metadata": {
  "name": "",
  "signature": "sha256:3caff766cdd6049484b96c3e385ad77f166e0c562e09f51cebb622015de5ccb2"
 },
 "nbformat": 3,
 "nbformat_minor": 0,
 "worksheets": [
  {
   "cells": [
    {
     "cell_type": "code",
     "collapsed": false,
     "input": [
      "from dectrees-py.dtree import entropy\n",
      "from dectrees-py import monkdata as m\n",
      "print 'MONK1 - %s' % entropy(m.monk1)\n",
      "print 'MONK2 - %s' % entropy(m.monk2)\n",
      "print 'MONK3 - %s' % entropy(m.monk3)\n"
     ],
     "language": "python",
     "metadata": {},
     "outputs": []
    }
   ],
   "metadata": {}
  }
 ]
}