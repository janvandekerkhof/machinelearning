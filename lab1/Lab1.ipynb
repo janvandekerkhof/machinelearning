{
 "metadata": {
  "name": "",
  "signature": "sha256:97e44a57d236318ff9e6deaf0c9952fcea20d2840037b4d258e21bbb622c6158"
 },
 "nbformat": 3,
 "nbformat_minor": 0,
 "worksheets": [
  {
   "cells": [
    {
     "cell_type": "code",
     "collapsed": false,
     "input": [
      "from dectrees-py.dtree import entropy\n",
      "from dectrees-py import monkdata as m\n",
      "print 'MONK1 - %s' % entropy(m.monk1)\n",
      "print 'MONK2 - %s' % entropy(m.monk2)\n",
      "print 'MONK3 - %s' % entropy(m.monk3)\n"
     ],
     "language": "python",
     "metadata": {},
     "outputs": [
      {
       "ename": "SyntaxError",
       "evalue": "invalid syntax (<ipython-input-1-ee9f7d7e7fa2>, line 1)",
       "output_type": "pyerr",
       "traceback": [
        "\u001b[0;36m  File \u001b[0;32m\"<ipython-input-1-ee9f7d7e7fa2>\"\u001b[0;36m, line \u001b[0;32m1\u001b[0m\n\u001b[0;31m    from dectrees-py.dtree import entropy\u001b[0m\n\u001b[0m                 ^\u001b[0m\n\u001b[0;31mSyntaxError\u001b[0m\u001b[0;31m:\u001b[0m invalid syntax\n"
       ]
      }
     ],
     "prompt_number": 1
    },
    {
     "cell_type": "code",
     "collapsed": false,
     "input": [],
     "language": "python",
     "metadata": {},
     "outputs": []
    }
   ],
   "metadata": {}
  }
 ]
}